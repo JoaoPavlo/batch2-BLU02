{
 "cells": [
  {
   "cell_type": "code",
   "execution_count": null,
   "metadata": {
    "deletable": false,
    "editable": false,
    "nbgrader": {
     "checksum": "e313e6cf15078aaf14d65871faf03fea",
     "grade": false,
     "grade_id": "cell-520638832f782572",
     "locked": true,
     "schema_version": 1,
     "solution": false
    }
   },
   "outputs": [],
   "source": [
    "import pandas as pd\n",
    "import matplotlib.pyplot as plt"
   ]
  },
  {
   "cell_type": "markdown",
   "metadata": {
    "deletable": false,
    "editable": false,
    "nbgrader": {
     "checksum": "c0754557250e92fc2173b055218151b6",
     "grade": false,
     "grade_id": "cell-adde0d7f472ef7cb",
     "locked": true,
     "schema_version": 1,
     "solution": false
    }
   },
   "source": [
    "### Q: Timestamp Feature Extraction (non-graded)\n",
    "\n",
    "One of the easiest, and more abundante, sources of information in a time series is the time of each observation. From the timestamp we can extract "
   ]
  },
  {
   "cell_type": "code",
   "execution_count": null,
   "metadata": {
    "deletable": false,
    "nbgrader": {
     "checksum": "91c30a0eb638e45bb9f689928e0bf666",
     "grade": false,
     "grade_id": "cell-0591f5b5d85491ab",
     "locked": false,
     "schema_version": 1,
     "solution": true
    }
   },
   "outputs": [],
   "source": [
    "from sklearn.base import TransformerMixin\n",
    "\n",
    "\n",
    "class TimestampFeatureExtractor(TransformerMixin): \n",
    "    \"\"\"\n",
    "    Transformer used to extract, from a pandas dataframe column, \n",
    "    one feature of the timestamps used in that column, and writes \n",
    "    the value in another column\n",
    "    \n",
    "    \n",
    "    Parameters\n",
    "    ----------\n",
    "    source_column : str\n",
    "        The name of the column of the pandas dataframes used in \n",
    "        `TimestampFeatureExtractor.transform` from where we will \n",
    "        extract the timestamp feature.\n",
    "        \n",
    "    unit_name : 'second', 'minute', 'hour', 'day'\n",
    "        The name of the feature we want to extract: \n",
    "            - 'second': number of seconds of the time value.\n",
    "            - 'minute': number of minutes of the time value.\n",
    "            - 'hour': number of hours of the time value.\n",
    "            - 'day': number of days of the time value.\n",
    "            \n",
    "    target_column : str\n",
    "        The name of the column where the feature values will \n",
    "        be written.\n",
    "        \n",
    "    copy : boolean (default: True)\n",
    "        If True, the pandas dataframe passed into `TimestampFeatureExtractor.transform` \n",
    "        must be copied before applying any operation. At the end, return the copy.\n",
    "    \"\"\"\n",
    "    def __init__(self, source_column, unit_name, target_column, copy=True): \n",
    "        # Initialize fields with parameters.\n",
    "        self.source_column = source_column\n",
    "        self.unit_name = unit_name\n",
    "        self.target_column = target_column\n",
    "        self.copy = copy\n",
    "    \n",
    "    def fit(self, X, *_): \n",
    "        \"\"\"\n",
    "        \n",
    "        Parameters\n",
    "        ----------\n",
    "        X : pandas.DataFrame\n",
    "        \n",
    "        \n",
    "        Returns\n",
    "        -------\n",
    "        self : TimestampFeatureExtractor\n",
    "        \"\"\"\n",
    "        return self\n",
    "    \n",
    "    def transform(self, X, *_): \n",
    "        \"\"\"\n",
    "        \n",
    "        Parameters\n",
    "        ----------\n",
    "        X : pandas.DataFrame\n",
    "        \n",
    "        \n",
    "        Returns\n",
    "        -------\n",
    "        X_new : pandas.DataFrame\n",
    "        \"\"\"\n",
    "        # 1) When copy == True, you must operate of a copy of X.\n",
    "        \n",
    "        # 2) If unit_name == 'second' the target column must contain \n",
    "        #    the number of seconds of the datetime source column.\n",
    "        \n",
    "        # 3) If unit_name == 'minute' the target column must contain \n",
    "        #    the number of seconds of the datetime source column.\n",
    "        \n",
    "        # 4) If unit_name == 'hour' the target column must contain \n",
    "        #    the number of seconds of the datetime source column.\n",
    "        \n",
    "        # 5) If unit_name == 'second' the target column must contain \n",
    "        #    the number of seconds of the datetime source column.\n",
    "        \n",
    "        # YOUR CODE HERE\n",
    "        raise NotImplementedError()\n",
    "        return X"
   ]
  },
  {
   "cell_type": "code",
   "execution_count": null,
   "metadata": {
    "deletable": false,
    "editable": false,
    "nbgrader": {
     "checksum": "0562cdfc131aaefc5c56c437fb407681",
     "grade": false,
     "grade_id": "cell-acac79cd3e9f1840",
     "locked": true,
     "schema_version": 1,
     "solution": false
    }
   },
   "outputs": [],
   "source": [
    "df = pd.DataFrame({\n",
    "    'datetime': pd.date_range(start='February 1 2018', end='February 28 2018', freq='S')\n",
    "})"
   ]
  },
  {
   "cell_type": "code",
   "execution_count": null,
   "metadata": {
    "deletable": false,
    "editable": false,
    "nbgrader": {
     "checksum": "ccc05424b98f0f5455f03395ca1ec31d",
     "grade": false,
     "grade_id": "cell-08e0f06e58e4864c",
     "locked": true,
     "schema_version": 1,
     "solution": false
    }
   },
   "outputs": [],
   "source": [
    "t = TimestampFeatureExtractor('datetime', 'second', 'datetime_seconds', copy=True)\n",
    "t.fit(df);\n",
    "print(t.transform(df).sample(10, random_state=10))"
   ]
  },
  {
   "cell_type": "markdown",
   "metadata": {
    "deletable": false,
    "editable": false,
    "nbgrader": {
     "checksum": "a9ced16a875e7d33b4cc5061479a132c",
     "grade": false,
     "grade_id": "cell-af26791cf71dafea",
     "locked": true,
     "schema_version": 1,
     "solution": false
    }
   },
   "source": [
    "Expected output:\n",
    "```\n",
    "                   datetime  datetime_seconds\n",
    "1235354 2018-02-15 07:09:14                14\n",
    "1355668 2018-02-16 16:34:28                28\n",
    "1594321 2018-02-19 10:52:01                 1\n",
    "1848764 2018-02-22 09:32:44                44\n",
    "1670650 2018-02-20 08:04:10                10\n",
    "1381401 2018-02-16 23:43:21                21\n",
    "899763  2018-02-11 09:56:03                 3\n",
    "1041075 2018-02-13 01:11:15                15\n",
    "613274  2018-02-08 02:21:14                14\n",
    "2196823 2018-02-26 10:13:43                43\n",
    "\n",
    "```"
   ]
  },
  {
   "cell_type": "code",
   "execution_count": null,
   "metadata": {
    "deletable": false,
    "editable": false,
    "nbgrader": {
     "checksum": "99baf8c575dd8a0542474197e45d45e7",
     "grade": false,
     "grade_id": "cell-74660058f6405685",
     "locked": true,
     "schema_version": 1,
     "solution": false
    }
   },
   "outputs": [],
   "source": [
    "t = TimestampFeatureExtractor('datetime', 'minute', 'datetime_minutes', copy=True)\n",
    "t.fit(df);\n",
    "print(t.transform(df).sample(10, random_state=20))"
   ]
  },
  {
   "cell_type": "markdown",
   "metadata": {
    "deletable": false,
    "editable": false,
    "nbgrader": {
     "checksum": "a0f19dde3b5b051cfaa5b4968ba16f65",
     "grade": false,
     "grade_id": "cell-e9981f299808cca9",
     "locked": true,
     "schema_version": 1,
     "solution": false
    }
   },
   "source": [
    "Expected output:\n",
    "```\n",
    "                   datetime  datetime_minutes\n",
    "996783  2018-02-12 12:53:03                53\n",
    "2136413 2018-02-25 17:26:53                26\n",
    "346832  2018-02-05 00:20:32                20\n",
    "1232036 2018-02-15 06:13:56                13\n",
    "2154432 2018-02-25 22:27:12                27\n",
    "1172351 2018-02-14 13:39:11                39\n",
    "2297325 2018-02-27 14:08:45                 8\n",
    "1994796 2018-02-24 02:06:36                 6\n",
    "489748  2018-02-06 16:02:28                 2\n",
    "2092819 2018-02-25 05:20:19                20\n",
    "```"
   ]
  },
  {
   "cell_type": "code",
   "execution_count": null,
   "metadata": {
    "deletable": false,
    "editable": false,
    "nbgrader": {
     "checksum": "cb52165314032cd79c1e04958ffbb172",
     "grade": false,
     "grade_id": "cell-0b28a0a436f001dd",
     "locked": true,
     "schema_version": 1,
     "solution": false
    }
   },
   "outputs": [],
   "source": [
    "t = TimestampFeatureExtractor('datetime', 'hour', 'datetime_hours', copy=True)\n",
    "t.fit(df);\n",
    "print(t.transform(df).sample(10, random_state=60))"
   ]
  },
  {
   "cell_type": "markdown",
   "metadata": {
    "deletable": false,
    "editable": false,
    "nbgrader": {
     "checksum": "2b1b09f9e2b6662f56d75c4fc48beed2",
     "grade": false,
     "grade_id": "cell-7f97336c714aaf57",
     "locked": true,
     "schema_version": 1,
     "solution": false
    }
   },
   "source": [
    "Expected output:\n",
    "```\n",
    "                   datetime  datetime_hours\n",
    "1329323 2018-02-16 09:15:23               9\n",
    "360966  2018-02-05 04:16:06               4\n",
    "533492  2018-02-07 04:11:32               4\n",
    "1412048 2018-02-17 08:14:08               8\n",
    "1995861 2018-02-24 02:24:21               2\n",
    "1258924 2018-02-15 13:42:04              13\n",
    "1777769 2018-02-21 13:49:29              13\n",
    "1637317 2018-02-19 22:48:37              22\n",
    "562282  2018-02-07 12:11:22              12\n",
    "1650510 2018-02-20 02:28:30               2\n",
    "```"
   ]
  },
  {
   "cell_type": "markdown",
   "metadata": {
    "deletable": false,
    "editable": false,
    "nbgrader": {
     "checksum": "25210cd8a7e270e6ff2e1d9dfe3b7cf8",
     "grade": false,
     "grade_id": "cell-198d268f9d94aea6",
     "locked": true,
     "schema_version": 1,
     "solution": false
    }
   },
   "source": [
    "### Q: Cyclical Feature Encoding (non-graded)"
   ]
  },
  {
   "cell_type": "code",
   "execution_count": null,
   "metadata": {
    "deletable": false,
    "editable": false,
    "nbgrader": {
     "checksum": "fa81426321e8d5294a9dc70dc1b2fa9f",
     "grade": false,
     "grade_id": "cell-fe3cfeaad1a7c2bc",
     "locked": true,
     "schema_version": 1,
     "solution": false
    }
   },
   "outputs": [],
   "source": [
    "from sklearn.base import TransformerMixin\n",
    "import pandas as pd\n",
    "import numpy as np"
   ]
  },
  {
   "cell_type": "code",
   "execution_count": null,
   "metadata": {
    "deletable": false,
    "nbgrader": {
     "checksum": "d808828c556e0e735e69fb691df53bed",
     "grade": false,
     "grade_id": "cell-7f194a45dd4342ba",
     "locked": false,
     "schema_version": 1,
     "solution": true
    }
   },
   "outputs": [],
   "source": [
    "class CyclicalFeatureEncoding(TransformerMixin):\n",
    "    def __init__(self, source_column, num_divisions, target_column, copy=True):\n",
    "        self.source_column = source_column\n",
    "        self.target_column = target_column\n",
    "        self.num_divisions = num_divisions\n",
    "        self.copy = copy\n",
    "    \n",
    "    def fit(self, X, *_):\n",
    "        return self\n",
    "    \n",
    "    def transform(self, X, *_):\n",
    "        # 1) When copy == True, you must operate of \n",
    "        #    a copy of X.\n",
    "        \n",
    "        # 2) Compute the sine\n",
    "        #    X[\"{} (sin)\".format(self.target_column)] = ...\n",
    "        \n",
    "        # 3) Compute the cosine\n",
    "        #    X[\"{} (cos)\".format(self.target_column)] = ...\n",
    "        \n",
    "        # YOUR CODE HERE\n",
    "        raise NotImplementedError()\n",
    "        return X"
   ]
  },
  {
   "cell_type": "code",
   "execution_count": null,
   "metadata": {
    "deletable": false,
    "editable": false,
    "nbgrader": {
     "checksum": "6a97df00505e58e901de6e1c78d7674b",
     "grade": false,
     "grade_id": "cell-39f440bb9e6eeef0",
     "locked": true,
     "schema_version": 1,
     "solution": false
    }
   },
   "outputs": [],
   "source": [
    "t = TimestampFeatureExtractor('datetime', 'minute', 'datetime_minutes', copy=True)\n",
    "c = CyclicalFeatureEncoding('datetime_minutes', 60, 'datetime_minutes')\n",
    "print(c.fit_transform(t.fit_transform(df)).sample(10, random_state=50))"
   ]
  },
  {
   "cell_type": "markdown",
   "metadata": {
    "deletable": false,
    "editable": false,
    "nbgrader": {
     "checksum": "88cc3aff01f0717777fae6a761629513",
     "grade": false,
     "grade_id": "cell-cd57d3631609e04b",
     "locked": true,
     "schema_version": 1,
     "solution": false
    }
   },
   "source": [
    "Expected output:\n",
    "```\n",
    "\n",
    "                   datetime  datetime_minutes  datetime_minutes (sin)  \\\n",
    "1462307 2018-02-17 22:11:47                11                0.913545   \n",
    "640727  2018-02-08 09:58:47                58               -0.207912   \n",
    "737055  2018-02-09 12:44:15                44               -0.994522   \n",
    "576656  2018-02-07 16:10:56                10                0.866025   \n",
    "53823   2018-02-01 14:57:03                57               -0.309017   \n",
    "1910070 2018-02-23 02:34:30                34               -0.406737   \n",
    "1190855 2018-02-14 18:47:35                47               -0.978148   \n",
    "2067682 2018-02-24 22:21:22                21                0.809017   \n",
    "1596263 2018-02-19 11:24:23                24                0.587785   \n",
    "2179607 2018-02-26 05:26:47                26                0.406737   \n",
    "\n",
    "         datetime_minutes (cos)  \n",
    "1462307                0.406737  \n",
    "640727                 0.978148  \n",
    "737055                -0.104528  \n",
    "576656                 0.500000  \n",
    "53823                  0.951057  \n",
    "1910070               -0.913545  \n",
    "1190855                0.207912  \n",
    "2067682               -0.587785  \n",
    "1596263               -0.809017  \n",
    "2179607               -0.913545  \n",
    "```"
   ]
  },
  {
   "cell_type": "code",
   "execution_count": null,
   "metadata": {
    "deletable": false,
    "editable": false,
    "nbgrader": {
     "checksum": "23d4f5aff3f44e18f1a3ca4091c73fca",
     "grade": false,
     "grade_id": "cell-78b54e816915f712",
     "locked": true,
     "schema_version": 1,
     "solution": false
    }
   },
   "outputs": [],
   "source": [
    "t = TimestampFeatureExtractor('datetime', 'hour', 'datetime_minutes', copy=True)\n",
    "c = CyclicalFeatureEncoding('datetime_minutes', 24, 'datetime_minutes')\n",
    "print(c.fit_transform(t.fit_transform(df)).sample(10, random_state=51))"
   ]
  },
  {
   "cell_type": "markdown",
   "metadata": {
    "deletable": false,
    "editable": false,
    "nbgrader": {
     "checksum": "057b32d4ae96879154d854bc04daeee1",
     "grade": false,
     "grade_id": "cell-cb1a1346e98ca916",
     "locked": true,
     "schema_version": 1,
     "solution": false
    }
   },
   "source": [
    "Expected output:\n",
    "```\n",
    "                   datetime  datetime_minutes  datetime_minutes (sin)  \\\n",
    "1794146 2018-02-21 18:22:26                18               -1.000000   \n",
    "2298896 2018-02-27 14:34:56                14               -0.500000   \n",
    "314733  2018-02-04 15:25:33                15               -0.707107   \n",
    "2256784 2018-02-27 02:53:04                 2                0.500000   \n",
    "834027  2018-02-10 15:40:27                15               -0.707107   \n",
    "1246054 2018-02-15 10:07:34                10                0.500000   \n",
    "2006258 2018-02-24 05:17:38                 5                0.965926   \n",
    "863632  2018-02-10 23:53:52                23               -0.258819   \n",
    "1799372 2018-02-21 19:49:32                19               -0.965926   \n",
    "474919  2018-02-06 11:55:19                11                0.258819   \n",
    "\n",
    "         datetime_minutes (cos)  \n",
    "1794146           -1.836970e-16  \n",
    "2298896           -8.660254e-01  \n",
    "314733            -7.071068e-01  \n",
    "2256784            8.660254e-01  \n",
    "834027            -7.071068e-01  \n",
    "1246054           -8.660254e-01  \n",
    "2006258            2.588190e-01  \n",
    "863632             9.659258e-01  \n",
    "1799372            2.588190e-01  \n",
    "474919            -9.659258e-01 \n",
    "```"
   ]
  },
  {
   "cell_type": "markdown",
   "metadata": {
    "deletable": false,
    "editable": false,
    "nbgrader": {
     "checksum": "93bf5238f6dda02a4a2bbf7cd089835e",
     "grade": false,
     "grade_id": "cell-132353b25e18ea96",
     "locked": true,
     "schema_version": 1,
     "solution": false
    }
   },
   "source": [
    "### Q: Setting a transformation pipeline (non-graded)\n",
    "\n",
    "Create a scikit pipeline with four TimestampFeatureExtractor instances. Read the comments in order to know what pipeline steps you should create. Do not forget that a [pipeline](http://scikit-learn.org/stable/modules/generated/sklearn.pipeline.Pipeline.html) step is defined as tuple *(NAME OF THE STEP, TRANSFORMER/PREDICTOR)*."
   ]
  },
  {
   "cell_type": "code",
   "execution_count": null,
   "metadata": {
    "deletable": false,
    "editable": false,
    "nbgrader": {
     "checksum": "e7b4fcd5286abb3aab5b030860e56630",
     "grade": false,
     "grade_id": "cell-dfde59bb9fd1892f",
     "locked": true,
     "schema_version": 1,
     "solution": false
    }
   },
   "outputs": [],
   "source": [
    "from sklearn.pipeline import Pipeline"
   ]
  },
  {
   "cell_type": "code",
   "execution_count": null,
   "metadata": {
    "deletable": false,
    "nbgrader": {
     "checksum": "c4c53d9752f5664f05a2ef61facfdcc4",
     "grade": false,
     "grade_id": "cell-5567713a7add6ef0",
     "locked": false,
     "schema_version": 1,
     "solution": true
    }
   },
   "outputs": [],
   "source": [
    "# Create a scikit pipeline with the following named steps:\n",
    "\n",
    "# 'seconds_extractor': a TimestampFeatureExtraction instance that extracts the \n",
    "# seconds from the 'datetime' column and write them in 'datetime_second'\n",
    "# seconds_extractor_tuple = ...\n",
    "# YOUR CODE HERE\n",
    "raise NotImplementedError()\n",
    "\n",
    "# 'minutes_extractor': a TimestampFeatureExtraction instance that extracts the \n",
    "# seconds from the 'datetime' column and write them in 'datetime_minute'\n",
    "# minutes_extractor_tuple = ...\n",
    "# YOUR CODE HERE\n",
    "raise NotImplementedError()\n",
    "\n",
    "# 'hours_extractor': a TimestampFeatureExtraction instance that extracts the \n",
    "# seconds from the 'datetime' column and write them in 'datetime_hour'\n",
    "# hours_extractor_tuple = ...\n",
    "# YOUR CODE HERE\n",
    "raise NotImplementedError()\n",
    "\n",
    "# 'days_extractor': a TimestampFeatureExtraction instance that extracts the \n",
    "# day from the 'datetime' column and write them in 'datetime_seconds'\n",
    "# hours_extractor_tuple = ...\n",
    "# YOUR CODE HERE\n",
    "raise NotImplementedError()\n",
    "\n",
    "\n",
    "# Finally, create a pipeline with the previous tuples you created.\n",
    "# timestamp_features_extraction_pipeline = ...\n",
    "# YOUR CODE HERE\n",
    "raise NotImplementedError()"
   ]
  },
  {
   "cell_type": "code",
   "execution_count": null,
   "metadata": {
    "deletable": false,
    "editable": false,
    "nbgrader": {
     "checksum": "a1c990682023dc04f822acc3bfba2d3d",
     "grade": false,
     "grade_id": "cell-6b39e370d1c8526f",
     "locked": true,
     "schema_version": 1,
     "solution": false
    }
   },
   "outputs": [],
   "source": [
    "timestamp_features_extraction_pipeline.fit(df);\n",
    "transformed = timestamp_features_extraction_pipeline.transform(df).sample(10, random_state=20)\n",
    "print(transformed)"
   ]
  },
  {
   "cell_type": "markdown",
   "metadata": {
    "deletable": false,
    "editable": false,
    "nbgrader": {
     "checksum": "9976f3bedcc8399528da60428fe20f63",
     "grade": false,
     "grade_id": "cell-443e85eab5bf5060",
     "locked": true,
     "schema_version": 1,
     "solution": false
    }
   },
   "source": [
    "Expected output:\n",
    "```\n",
    "                   datetime  datetime_second  datetime_minute  datetime_hour  \\\n",
    "996783  2018-02-12 12:53:03                3               53             12   \n",
    "2136413 2018-02-25 17:26:53               53               26             17   \n",
    "346832  2018-02-05 00:20:32               32               20              0   \n",
    "1232036 2018-02-15 06:13:56               56               13              6   \n",
    "2154432 2018-02-25 22:27:12               12               27             22   \n",
    "1172351 2018-02-14 13:39:11               11               39             13   \n",
    "2297325 2018-02-27 14:08:45               45                8             14   \n",
    "1994796 2018-02-24 02:06:36               36                6              2   \n",
    "489748  2018-02-06 16:02:28               28                2             16   \n",
    "2092819 2018-02-25 05:20:19               19               20              5   \n",
    "\n",
    "         datetime_day  \n",
    "996783             12  \n",
    "2136413            25  \n",
    "346832              5  \n",
    "1232036            15  \n",
    "2154432            25  \n",
    "1172351            14  \n",
    "2297325            27  \n",
    "1994796            24  \n",
    "489748              6  \n",
    "2092819            25  \n",
    "```"
   ]
  },
  {
   "cell_type": "markdown",
   "metadata": {
    "deletable": false,
    "editable": false,
    "nbgrader": {
     "checksum": "d16c569fe764ec1ada1e5f8298a7b55a",
     "grade": false,
     "grade_id": "cell-9a69497a708b8043",
     "locked": true,
     "schema_version": 1,
     "solution": false
    }
   },
   "source": [
    "### Q: Handling different number of days per month (non-graded)\n",
    "\n",
    "As we know by now, in order to use cyclical feature encoding, we need\n",
    "\n",
    "Not all months in the year have the same number of days. For example, January has more days that February. In order to take tha difference into account for computing the sine and cosine for the day, we need to use the number of days for a given month"
   ]
  },
  {
   "cell_type": "code",
   "execution_count": null,
   "metadata": {
    "deletable": false,
    "nbgrader": {
     "checksum": "d166033e8b1b6ddefc1226a4bc5257a5",
     "grade": false,
     "grade_id": "cell-7fa7086f52c31bfd",
     "locked": false,
     "schema_version": 1,
     "solution": true
    }
   },
   "outputs": [],
   "source": [
    "class CyclicalDayInMonthFeatureEncoding(TransformerMixin):\n",
    "    def __init__(self, source_column, target_column, copy=True): \n",
    "        self.source_column = source_column\n",
    "        self.target_column = target_column\n",
    "        self.copy = copy\n",
    "    \n",
    "    def fit(self, X, *_):\n",
    "        return self\n",
    "    \n",
    "    def transform(self, X, *_):\n",
    "        # YOUR CODE HERE\n",
    "        raise NotImplementedError()\n",
    "        return X"
   ]
  },
  {
   "cell_type": "code",
   "execution_count": null,
   "metadata": {
    "deletable": false,
    "editable": false,
    "nbgrader": {
     "checksum": "3655c7cb1d5dc3db2340fa33ff20f1a4",
     "grade": false,
     "grade_id": "cell-24ab9bc291d5be1e",
     "locked": true,
     "schema_version": 1,
     "solution": false
    }
   },
   "outputs": [],
   "source": [
    "df_ = timestamp_features_extraction_pipeline.transform(df)\n",
    "c = CyclicalDayInMonthFeatureEncoding('datetime', 'datetime_day')\n",
    "print(c.fit_transform(df_).sample(10, random_state=10))"
   ]
  },
  {
   "cell_type": "markdown",
   "metadata": {
    "deletable": false,
    "editable": false,
    "nbgrader": {
     "checksum": "9452b80821a3c9cebadad95893910170",
     "grade": false,
     "grade_id": "cell-9a448a6c1ca8e335",
     "locked": true,
     "schema_version": 1,
     "solution": false
    }
   },
   "source": [
    "Expected output:\n",
    "```\n",
    "                   datetime  datetime_second  datetime_minute  datetime_hour  \\\n",
    "1235354 2018-02-15 07:09:14               14                9              7   \n",
    "1355668 2018-02-16 16:34:28               28               34             16   \n",
    "1594321 2018-02-19 10:52:01                1               52             10   \n",
    "1848764 2018-02-22 09:32:44               44               32              9   \n",
    "1670650 2018-02-20 08:04:10               10                4              8   \n",
    "1381401 2018-02-16 23:43:21               21               43             23   \n",
    "899763  2018-02-11 09:56:03                3               56              9   \n",
    "1041075 2018-02-13 01:11:15               15               11              1   \n",
    "613274  2018-02-08 02:21:14               14               21              2   \n",
    "2196823 2018-02-26 10:13:43               43               13             10   \n",
    "\n",
    "         datetime_day  datetime_day (sin)  datetime_day (cos)  \n",
    "1235354            15           -0.222521           -0.974928  \n",
    "1355668            16           -0.433884           -0.900969  \n",
    "1594321            19           -0.900969           -0.433884  \n",
    "1848764            22           -0.974928            0.222521  \n",
    "1670650            20           -0.974928           -0.222521  \n",
    "1381401            16           -0.433884           -0.900969  \n",
    "899763             11            0.623490           -0.781831  \n",
    "1041075            13            0.222521           -0.974928  \n",
    "613274              8            0.974928           -0.222521  \n",
    "2196823            26           -0.433884            0.900969  \n",
    "```"
   ]
  },
  {
   "cell_type": "code",
   "execution_count": null,
   "metadata": {
    "deletable": false,
    "editable": false,
    "nbgrader": {
     "checksum": "62551add697ae4ba4d26cdb6c124c807",
     "grade": false,
     "grade_id": "cell-839ecbc59e6bb570",
     "locked": true,
     "schema_version": 1,
     "solution": false
    }
   },
   "outputs": [],
   "source": [
    "print(c.fit_transform(df_).sample(10, random_state=20))"
   ]
  },
  {
   "cell_type": "markdown",
   "metadata": {
    "deletable": false,
    "editable": false,
    "nbgrader": {
     "checksum": "8f89da4f9a7c4f5392b0f51d070bc5c2",
     "grade": false,
     "grade_id": "cell-4d39796de04eaaf4",
     "locked": true,
     "schema_version": 1,
     "solution": false
    }
   },
   "source": [
    "Expected output:\n",
    "```\n",
    "                   datetime  datetime_second  datetime_minute  datetime_hour  \\\n",
    "996783  2018-02-12 12:53:03                3               53             12   \n",
    "2136413 2018-02-25 17:26:53               53               26             17   \n",
    "346832  2018-02-05 00:20:32               32               20              0   \n",
    "1232036 2018-02-15 06:13:56               56               13              6   \n",
    "2154432 2018-02-25 22:27:12               12               27             22   \n",
    "1172351 2018-02-14 13:39:11               11               39             13   \n",
    "2297325 2018-02-27 14:08:45               45                8             14   \n",
    "1994796 2018-02-24 02:06:36               36                6              2   \n",
    "489748  2018-02-06 16:02:28               28                2             16   \n",
    "2092819 2018-02-25 05:20:19               19               20              5   \n",
    "\n",
    "         datetime_day  datetime_day (sin)  datetime_day (cos)  \n",
    "996783             12        4.338837e-01           -0.900969  \n",
    "2136413            25       -6.234898e-01            0.781831  \n",
    "346832              5        9.009689e-01            0.433884  \n",
    "1232036            15       -2.225209e-01           -0.974928  \n",
    "2154432            25       -6.234898e-01            0.781831  \n",
    "1172351            14        1.224647e-16           -1.000000  \n",
    "2297325            27       -2.225209e-01            0.974928  \n",
    "1994796            24       -7.818315e-01            0.623490  \n",
    "489748              6        9.749279e-01            0.222521  \n",
    "2092819            25       -6.234898e-01            0.781831  \n",
    "```"
   ]
  }
 ],
 "metadata": {
  "kernelspec": {
   "display_name": "Python 3",
   "language": "python",
   "name": "python3"
  },
  "language_info": {
   "codemirror_mode": {
    "name": "ipython",
    "version": 3
   },
   "file_extension": ".py",
   "mimetype": "text/x-python",
   "name": "python",
   "nbconvert_exporter": "python",
   "pygments_lexer": "ipython3",
   "version": "3.6.4"
  }
 },
 "nbformat": 4,
 "nbformat_minor": 2
}
