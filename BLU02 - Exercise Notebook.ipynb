{
 "cells": [
  {
   "cell_type": "markdown",
   "metadata": {
    "deletable": false,
    "editable": false,
    "nbgrader": {
     "checksum": "2dfabe59c5046a065f78c400ec1cf8e9",
     "grade": false,
     "grade_id": "cell-3db1b7eb6aade580",
     "locked": true,
     "schema_version": 1,
     "solution": false
    }
   },
   "source": [
    "# BLU 2  - Exercise Notebook "
   ]
  },
  {
   "cell_type": "code",
   "execution_count": null,
   "metadata": {
    "deletable": false,
    "editable": false,
    "nbgrader": {
     "checksum": "c06b2d343931d351fe77bdaf39ac2eeb",
     "grade": false,
     "grade_id": "cell-d9b262915f7cb1e5",
     "locked": true,
     "schema_version": 1,
     "solution": false
    }
   },
   "outputs": [],
   "source": [
    "import pandas as pd\n",
    "import matplotlib.pyplot as plt\n",
    "plt.rcParams['figure.figsize'] = (16, 8)\n",
    "import warnings\n",
    "warnings.simplefilter(action='ignore', category=FutureWarning)   \n",
    "from random import seed\n",
    "\n",
    "from sklearn.linear_model import LinearRegression\n",
    "import numpy as np\n",
    "import math\n",
    "from statsmodels.tsa.seasonal import seasonal_decompose\n",
    "from statsmodels.graphics.tsaplots import plot_acf, plot_pacf\n",
    "from statsmodels.tsa import stattools\n",
    "from pandas.plotting import lag_plot\n",
    "from statsmodels.tsa.arima_model import ARIMA\n",
    "\n",
    "% matplotlib inline"
   ]
  },
  {
   "cell_type": "markdown",
   "metadata": {
    "deletable": false,
    "editable": false,
    "nbgrader": {
     "checksum": "bfa6dee9756ca78e38b2e071039dbf5e",
     "grade": false,
     "grade_id": "cell-135918a56e4e91dc",
     "locked": true,
     "schema_version": 1,
     "solution": false
    }
   },
   "source": [
    "# Airlines! "
   ]
  },
  {
   "cell_type": "markdown",
   "metadata": {
    "deletable": false,
    "editable": false,
    "nbgrader": {
     "checksum": "fe855d3de835bac5ce10f00720cb14a2",
     "grade": false,
     "grade_id": "cell-c6491f79238e414a",
     "locked": true,
     "schema_version": 1,
     "solution": false
    }
   },
   "source": [
    "You will be working on the classic Airlines dataset. We'll do the pre-processing for you, so that you can focus on the predictions part. "
   ]
  },
  {
   "cell_type": "code",
   "execution_count": null,
   "metadata": {
    "deletable": false,
    "editable": false,
    "nbgrader": {
     "checksum": "494a0119a1dfa51e10d809d211d8b362",
     "grade": false,
     "grade_id": "cell-5ee8a16102649343",
     "locked": true,
     "schema_version": 1,
     "solution": false
    }
   },
   "outputs": [],
   "source": [
    "def load_airline_data():\n",
    "    airlines = pd.read_csv('Learning Notebooks/data/international-airline-passengers.csv', \n",
    "                       index_col='Month')[:-1]\n",
    "\n",
    "    airlines.columns = ['passengers_thousands']\n",
    "    airlines = airlines['passengers_thousands']\n",
    "    airlines.index = pd.to_datetime(airlines.index)\n",
    "    \n",
    "    return airlines"
   ]
  },
  {
   "cell_type": "code",
   "execution_count": null,
   "metadata": {
    "deletable": false,
    "editable": false,
    "nbgrader": {
     "checksum": "3ed48b911b9d7cb1c7a250346660b920",
     "grade": false,
     "grade_id": "cell-b77cea8baaa6780c",
     "locked": true,
     "schema_version": 1,
     "solution": false
    }
   },
   "outputs": [],
   "source": [
    "airlines = load_airline_data()"
   ]
  },
  {
   "cell_type": "code",
   "execution_count": null,
   "metadata": {
    "deletable": false,
    "editable": false,
    "nbgrader": {
     "checksum": "693050df9712969e86286ee9b1de3207",
     "grade": false,
     "grade_id": "cell-5c75029f4ae923a1",
     "locked": true,
     "schema_version": 1,
     "solution": false
    }
   },
   "outputs": [],
   "source": [
    "airlines.head()"
   ]
  },
  {
   "cell_type": "markdown",
   "metadata": {
    "deletable": false,
    "editable": false,
    "nbgrader": {
     "checksum": "e09397f09424e920a6e0e944b0dff32e",
     "grade": false,
     "grade_id": "cell-5db0587a41ba75ab",
     "locked": true,
     "schema_version": 1,
     "solution": false
    }
   },
   "source": [
    "##### Plot the series to get an idea of what's going on"
   ]
  },
  {
   "cell_type": "code",
   "execution_count": null,
   "metadata": {
    "deletable": false,
    "editable": false,
    "nbgrader": {
     "checksum": "e53be9483a4382c29b489c48ca3aeb67",
     "grade": false,
     "grade_id": "cell-846a66e59e645d8e",
     "locked": true,
     "schema_version": 1,
     "solution": false
    }
   },
   "outputs": [],
   "source": [
    "airlines.plot(figsize=(16, 6));"
   ]
  },
  {
   "cell_type": "markdown",
   "metadata": {
    "deletable": false,
    "editable": false,
    "nbgrader": {
     "checksum": "642289c430496f481c833dbc628f913a",
     "grade": false,
     "grade_id": "cell-6ae47129c817f680",
     "locked": true,
     "schema_version": 1,
     "solution": false
    }
   },
   "source": [
    "### Q0 (ungraded): \n",
    " - Is the magnitude of the variance changing? \n",
    " - Does it look cyclical? \n",
    " - Does it have an apparent trend? "
   ]
  },
  {
   "cell_type": "markdown",
   "metadata": {
    "deletable": false,
    "editable": false,
    "nbgrader": {
     "checksum": "e1da1e8420810b88d9daf38ee2f06001",
     "grade": false,
     "grade_id": "cell-319006fe402e025f",
     "locked": true,
     "schema_version": 1,
     "solution": false
    }
   },
   "source": [
    "## Let's identify our time series components"
   ]
  },
  {
   "cell_type": "markdown",
   "metadata": {
    "deletable": false,
    "editable": false,
    "nbgrader": {
     "checksum": "95784440956f284a6b1d2562918b01cd",
     "grade": false,
     "grade_id": "cell-9b60a107a7bd2fd1",
     "locked": true,
     "schema_version": 1,
     "solution": false
    }
   },
   "source": [
    "### Q1: Estimate the trend of the time series using Linear Regression:"
   ]
  },
  {
   "cell_type": "code",
   "execution_count": null,
   "metadata": {
    "deletable": false,
    "nbgrader": {
     "checksum": "0365d296639b3e2bb335f30591ff11da",
     "grade": false,
     "grade_id": "cell-7b2d7a5eee8d277f",
     "locked": false,
     "schema_version": 1,
     "solution": true
    }
   },
   "outputs": [],
   "source": [
    "def plot_linear_regression(df_):\n",
    "    \n",
    "    # Hint: we did this in BLU2 Part 2 \n",
    "    \n",
    "    # X = # create an array with the steps \n",
    "    # lr = # you Linear Regression \n",
    "    # fit your logit  \n",
    "    # linear_trend = # predict the data \n",
    "    \n",
    "    # YOUR CODE HERE\n",
    "    raise NotImplementedError()\n",
    "\n",
    "    linear_trend.plot();\n",
    "    df_.plot();\n",
    "    plt.show()\n",
    "    \n",
    "    return linear_trend    \n",
    "\n",
    "linear_trend = plot_linear_regression(airlines)"
   ]
  },
  {
   "cell_type": "code",
   "execution_count": null,
   "metadata": {
    "deletable": false,
    "editable": false,
    "nbgrader": {
     "checksum": "ae1424ade942b0b329829a055cd7e506",
     "grade": true,
     "grade_id": "cell-8bafcb20ee1977d9",
     "locked": true,
     "points": 2,
     "schema_version": 1,
     "solution": false
    }
   },
   "outputs": [],
   "source": [
    "assert math.isclose(linear_trend.sum(), 40363.0)"
   ]
  },
  {
   "cell_type": "markdown",
   "metadata": {
    "deletable": false,
    "editable": false,
    "nbgrader": {
     "checksum": "24cd390075ad3909d5768640ea01d681",
     "grade": false,
     "grade_id": "cell-084cba512cfb3756",
     "locked": true,
     "schema_version": 1,
     "solution": false
    }
   },
   "source": [
    "### Q2: Estimate the trend of the time series using Rolling window"
   ]
  },
  {
   "cell_type": "code",
   "execution_count": null,
   "metadata": {
    "deletable": false,
    "nbgrader": {
     "checksum": "a05e38619c0ce89ab1b881010efb4ebc",
     "grade": false,
     "grade_id": "cell-485e5fa4abd88e13",
     "locked": false,
     "schema_version": 1,
     "solution": true
    }
   },
   "outputs": [],
   "source": [
    "def plot_rolling_windows(df_):\n",
    "    \n",
    "    # rolling_6 =     # create a rolling window of 6 months\n",
    "    # rolling_12 =    # create a rolling window of 12 months\n",
    "\n",
    "    # YOUR CODE HERE\n",
    "    raise NotImplementedError()\n",
    "\n",
    "    df_.plot()\n",
    "    rolling_12.plot()\n",
    "    rolling_6.plot()\n",
    "    plt.show()\n",
    "    \n",
    "    return rolling_6, rolling_12\n",
    "\n",
    "rolling_6, rolling_12 = plot_rolling_windows(airlines)"
   ]
  },
  {
   "cell_type": "code",
   "execution_count": null,
   "metadata": {
    "deletable": false,
    "editable": false,
    "nbgrader": {
     "checksum": "72b33206223a22b78dcd00a727c82c5a",
     "grade": true,
     "grade_id": "cell-0803a24329962f61",
     "locked": true,
     "points": 2,
     "schema_version": 1,
     "solution": false
    }
   },
   "outputs": [],
   "source": [
    "assert rolling_6.isnull()[0:5].sum()\n",
    "assert math.isclose(rolling_6.sum(), 38941.0)\n",
    "assert math.isclose(rolling_12.mean(), 278.17731829)"
   ]
  },
  {
   "cell_type": "markdown",
   "metadata": {
    "deletable": false,
    "editable": false,
    "nbgrader": {
     "checksum": "472e1f8c2ae7cca53c4a4260d9b5d9c5",
     "grade": false,
     "grade_id": "cell-25100b7da2fbf2a3",
     "locked": true,
     "schema_version": 1,
     "solution": false
    }
   },
   "source": [
    "### Q3: Check the variance "
   ]
  },
  {
   "cell_type": "code",
   "execution_count": null,
   "metadata": {
    "deletable": false,
    "nbgrader": {
     "checksum": "12c15f9bd08aa7c74fcd047a560e1632",
     "grade": false,
     "grade_id": "cell-dbc5a65e6dd90854",
     "locked": false,
     "schema_version": 1,
     "solution": true
    }
   },
   "outputs": [],
   "source": [
    "def observing_variance(df_):\n",
    "    \n",
    "    \n",
    "    # variance_verification = # use a rolling window of 24 months to see what's happening with the standar deviation\n",
    "    # Then plot the variance_verification \n",
    "\n",
    "    # YOUR CODE HERE\n",
    "    raise NotImplementedError()\n",
    "    \n",
    "    return variance_verification\n",
    "\n",
    "variance_verification = observing_variance(airlines)"
   ]
  },
  {
   "cell_type": "code",
   "execution_count": null,
   "metadata": {
    "deletable": false,
    "editable": false,
    "nbgrader": {
     "checksum": "0d2c5f71a13d97d80007c3964265cd8f",
     "grade": true,
     "grade_id": "cell-291c03ac60c68f7d",
     "locked": true,
     "points": 2,
     "schema_version": 1,
     "solution": false
    }
   },
   "outputs": [],
   "source": [
    "assert math.isclose(variance_verification.sum(), 5302.061403933007)"
   ]
  },
  {
   "cell_type": "markdown",
   "metadata": {
    "deletable": false,
    "editable": false,
    "nbgrader": {
     "checksum": "9340e69901e5d0eaffa4ce13a01fd79e",
     "grade": false,
     "grade_id": "cell-596633794250e29c",
     "locked": true,
     "schema_version": 1,
     "solution": false
    }
   },
   "source": [
    "### Q4: Make a seasonal decomposition\n",
    "\n",
    "##### Remember we have shown you two models: 'additive' and 'multiplicative' . Which one should you use? "
   ]
  },
  {
   "cell_type": "code",
   "execution_count": null,
   "metadata": {
    "deletable": false,
    "nbgrader": {
     "checksum": "90c8a28a6d3686434aeab058584b3c48",
     "grade": false,
     "grade_id": "cell-c369f965ee868273",
     "locked": false,
     "schema_version": 1,
     "solution": true
    }
   },
   "outputs": [],
   "source": [
    "def decomposition(df_): \n",
    "    \n",
    "    # uncomment the model you wish to use\n",
    "    # model = 'additive'\n",
    "    # model = 'multiplicative' \n",
    "\n",
    "    # YOUR CODE HERE\n",
    "    raise NotImplementedError()\n",
    "\n",
    "\n",
    "    # decomp = # use statsmodel to get a seasonal decomposition object \n",
    "    # YOUR CODE HERE\n",
    "    raise NotImplementedError()\n",
    "\n",
    "    # plot the observed, trend, seasonal and residuals from decomp\n",
    "    # YOUR CODE HERE\n",
    "    raise NotImplementedError()\n",
    "\n",
    "    plt.show()\n",
    "    \n",
    "    return decomp \n",
    "\n",
    "decomp = decomposition(airlines)"
   ]
  },
  {
   "cell_type": "code",
   "execution_count": null,
   "metadata": {
    "deletable": false,
    "editable": false,
    "nbgrader": {
     "checksum": "2e3e5e79b46f0ddae2268e3230484068",
     "grade": true,
     "grade_id": "cell-567790cdbf31324b",
     "locked": true,
     "points": 2,
     "schema_version": 1,
     "solution": false
    }
   },
   "outputs": [],
   "source": [
    "assert math.isclose(decomp.trend.sum(), 36696.166666666664)\n",
    "assert math.isclose(decomp.seasonal.sum(), 144)"
   ]
  },
  {
   "cell_type": "markdown",
   "metadata": {
    "deletable": false,
    "editable": false,
    "nbgrader": {
     "checksum": "9e7bf0137e2374da22dddcf70638f149",
     "grade": false,
     "grade_id": "cell-50c774b21ff04b4b",
     "locked": true,
     "schema_version": 1,
     "solution": false
    }
   },
   "source": [
    "### Q5: Create a stationary series\n",
    "- What is the detrended series? (Use a lag one for the difference)\n",
    "- Plot the detrended series\n",
    "- What's the maximum correlation (except the first day) \n",
    "- What interpretations can be done from here? "
   ]
  },
  {
   "cell_type": "code",
   "execution_count": null,
   "metadata": {
    "deletable": false,
    "nbgrader": {
     "checksum": "7ea6095675895b8984de85adba04dacd",
     "grade": false,
     "grade_id": "cell-c14a426948b6b076",
     "locked": false,
     "schema_version": 1,
     "solution": true
    }
   },
   "outputs": [],
   "source": [
    "def make_stationary(df_):\n",
    "    # Here are some steps to help you:\n",
    "    # log_df = # remove the increase of the magnitude in the variance \n",
    "    # detrend = # get the difference (use the log_df!)\n",
    "    # detrend = # drop the nulls to avoid hell\n",
    "    # plot detrend \n",
    "    # Think about what you are seeing! The mean and the variance of the series you are looking at\n",
    "\n",
    "    # YOUR CODE HERE\n",
    "    raise NotImplementedError()\n",
    "    \n",
    "    return log_df, detrend\n",
    "\n",
    "log_df, detrend = make_stationary(airlines)"
   ]
  },
  {
   "cell_type": "code",
   "execution_count": null,
   "metadata": {
    "deletable": false,
    "editable": false,
    "nbgrader": {
     "checksum": "c23243a69cc5ef913d41323027c9ac1f",
     "grade": true,
     "grade_id": "cell-e8322815bf956221",
     "locked": true,
     "points": 2,
     "schema_version": 1,
     "solution": false
    }
   },
   "outputs": [],
   "source": [
    "assert math.isclose(detrend.sum(), 1.3499267169490166)\n",
    "assert np.exp(log_df).values.all() == airlines.values.all()"
   ]
  },
  {
   "cell_type": "markdown",
   "metadata": {
    "deletable": false,
    "editable": false,
    "nbgrader": {
     "checksum": "45e0de070b43e023503592782f16861a",
     "grade": false,
     "grade_id": "cell-ef1184e061dcce01",
     "locked": true,
     "schema_version": 1,
     "solution": false
    }
   },
   "source": [
    "This looks constant in time: Variance and mean! This is going towards stationary, hurray! \n",
    "\n",
    "Finally... we have some rest from those trends and variations now it's time to start working with the simple things of this learning unit! \n",
    "\n",
    "### Q6: Get me some autocorrelations please! \n",
    "1. Get the autocorrelation and partial autocorrelation for the series"
   ]
  },
  {
   "cell_type": "code",
   "execution_count": null,
   "metadata": {
    "deletable": false,
    "nbgrader": {
     "checksum": "b4fb8296c0704269958060d653c67b67",
     "grade": false,
     "grade_id": "cell-b2bfb6431053bbb1",
     "locked": false,
     "schema_version": 1,
     "solution": true
    }
   },
   "outputs": [],
   "source": [
    "def get_acf_and_pacf(df_):\n",
    "\n",
    "    # acf_result = # series of the autocorrelation \n",
    "    # pacf_result = # series of the partial autocorrelation \n",
    "    \n",
    "    # YOUR CODE HERE\n",
    "    raise NotImplementedError()\n",
    "\n",
    "    # plot the autocorrelation (use statsmodel)\n",
    "    # YOUR CODE HERE\n",
    "    raise NotImplementedError()\n",
    "    \n",
    "    # plot the partial autocorrelation (use statsmodel)\n",
    "    # YOUR CODE HERE\n",
    "    raise NotImplementedError()\n",
    "    \n",
    "    return acf_result, pacf_result\n",
    "\n",
    "\n",
    "# Call the function with the right argument. \n",
    "# Is the right argument (df_) airplanes? Probably not, or we wouldn't be asking. \n",
    "\n",
    "# acf_result, pacf_result = ...\n",
    "# YOUR CODE HERE\n",
    "raise NotImplementedError()"
   ]
  },
  {
   "cell_type": "code",
   "execution_count": null,
   "metadata": {
    "deletable": false,
    "editable": false,
    "nbgrader": {
     "checksum": "bacaac369d661a1986b4487632657ba7",
     "grade": true,
     "grade_id": "cell-a732134f5ff90a6c",
     "locked": true,
     "points": 2,
     "schema_version": 1,
     "solution": false
    }
   },
   "outputs": [],
   "source": [
    "assert math.isclose(acf_result.sum(), 0.6453106068705969)\n",
    "assert math.isclose(pacf_result.sum(), -1.901056081553599)"
   ]
  },
  {
   "cell_type": "markdown",
   "metadata": {
    "deletable": false,
    "editable": false,
    "nbgrader": {
     "checksum": "0ad64e9956826486554e31276e4cd8cf",
     "grade": false,
     "grade_id": "cell-d6b939ad9e2bca44",
     "locked": true,
     "schema_version": 1,
     "solution": false
    }
   },
   "source": [
    "### Q7 interpret the plots "
   ]
  },
  {
   "cell_type": "code",
   "execution_count": null,
   "metadata": {
    "deletable": false,
    "nbgrader": {
     "checksum": "f9c2d1f1f571291827d89a5961811cee",
     "grade": false,
     "grade_id": "cell-c2fe0fd6e61d852e",
     "locked": false,
     "schema_version": 1,
     "solution": true
    }
   },
   "outputs": [],
   "source": [
    "# relevant_lags_acf = # the number of lags, except zero, \n",
    "#     that are statistically significant before crossing the first time the blue bondary\n",
    "\n",
    "# relevant_lags_pacf = # the number of lags, except zero, \n",
    "#     that are statistically significant before crossing the first time the blue bondary\n",
    "\n",
    "# you can hardcode this one: \n",
    "\n",
    "# YOUR CODE HERE\n",
    "raise NotImplementedError()"
   ]
  },
  {
   "cell_type": "code",
   "execution_count": null,
   "metadata": {
    "deletable": false,
    "editable": false,
    "nbgrader": {
     "checksum": "f1fa44cdc9432d45a3315bf9732adc86",
     "grade": true,
     "grade_id": "cell-1d7bdfbd336470e2",
     "locked": true,
     "points": 2,
     "schema_version": 1,
     "solution": false
    }
   },
   "outputs": [],
   "source": [
    "# we are giving this one easy, as it is more important that you know you got it right. \n",
    "# however, don't just copy the numbers, if you don't understand where they come from ask us! \n",
    "assert relevant_lags_acf == 1\n",
    "assert relevant_lags_pacf == 2"
   ]
  },
  {
   "cell_type": "markdown",
   "metadata": {
    "deletable": false,
    "editable": false,
    "nbgrader": {
     "checksum": "669120642723cf84db2bdcd4660b658c",
     "grade": false,
     "grade_id": "cell-503facccbe602788",
     "locked": true,
     "schema_version": 1,
     "solution": false
    }
   },
   "source": [
    "### Q8: Get the lag scatter for the lag 2 and 12. Which one seems to show seasonality? \n",
    "\n",
    "Hint: this is also in Part 2 of the Learning Notebooks "
   ]
  },
  {
   "cell_type": "code",
   "execution_count": null,
   "metadata": {
    "deletable": false,
    "nbgrader": {
     "checksum": "949a627c0fb77dd8aa85208795c2064f",
     "grade": false,
     "grade_id": "cell-9d52ada83231f246",
     "locked": false,
     "schema_version": 1,
     "solution": true
    }
   },
   "outputs": [],
   "source": [
    "# Plot the lag scatter for lag 2 \n",
    "\n",
    "# YOUR CODE HERE\n",
    "raise NotImplementedError()\n",
    "plt.show()\n",
    "\n",
    "# Plot the lag scatter for lag 12 \n",
    "# YOUR CODE HERE\n",
    "raise NotImplementedError()\n",
    "plt.show()\n",
    "\n",
    "# uncomment the one you think is true (from observing the plots) \n",
    "# lag = 12\n",
    "# lag = 2\n",
    "\n",
    "# YOUR CODE HERE\n",
    "raise NotImplementedError()"
   ]
  },
  {
   "cell_type": "code",
   "execution_count": null,
   "metadata": {
    "deletable": false,
    "editable": false,
    "nbgrader": {
     "checksum": "0bfcf54d6f4e9475f9b27654dcc19fb2",
     "grade": true,
     "grade_id": "cell-dc3b0fb4842ec423",
     "locked": true,
     "points": 2,
     "schema_version": 1,
     "solution": false
    }
   },
   "outputs": [],
   "source": [
    "assert lag == 12"
   ]
  },
  {
   "cell_type": "markdown",
   "metadata": {
    "deletable": false,
    "editable": false,
    "nbgrader": {
     "checksum": "d79d496f32f0ea495aac14933d875f07",
     "grade": false,
     "grade_id": "cell-a5824aabddaf7b2b",
     "locked": true,
     "schema_version": 1,
     "solution": false
    }
   },
   "source": [
    "### Q9: Choose the parameters for your ARIMA model based on what you have seen before on the autocorrelation\n",
    "\n",
    "Note 1: you will need to understand what the d is doing and use previous answers to select `p`, `d` and `q`\n",
    "\n",
    "_Note: In case of doubt for the **lag number 2** in the Partial Autocorrelation Function, consider that it crosses the blue/dashed lines_"
   ]
  },
  {
   "cell_type": "code",
   "execution_count": null,
   "metadata": {
    "deletable": false,
    "nbgrader": {
     "checksum": "dbfcc637a8e8d6035f07d4eec8c7ea7c",
     "grade": false,
     "grade_id": "cell-6312e30d5d2437ff",
     "locked": false,
     "schema_version": 1,
     "solution": true
    }
   },
   "outputs": [],
   "source": [
    "def fit_arima(df_, p, d, q): \n",
    "    # model = ... \n",
    "    # YOUR CODE HERE\n",
    "    raise NotImplementedError()\n",
    "    \n",
    "    # Actually fit the model (remember, statsmodel is different from scikit in API)\n",
    "    # YOUR CODE HERE\n",
    "    raise NotImplementedError()\n",
    "    \n",
    "    return results\n",
    "\n",
    "\n",
    "# Chose the parameters, and train the model \n",
    "# p = ... \n",
    "# d = ...\n",
    "# q = ...\n",
    "# results = ...\n",
    "\n",
    "# YOUR CODE HERE\n",
    "raise NotImplementedError()\n",
    "\n",
    "# plot both series together \n",
    "# plot the fitted values\n",
    "# plot the series you are comparing (again, not telling you which one), \n",
    "#     but remember arima works with stationary series (wink, wink) \n",
    "\n",
    "\n",
    "# YOUR CODE HERE\n",
    "raise NotImplementedError()"
   ]
  },
  {
   "cell_type": "code",
   "execution_count": null,
   "metadata": {
    "deletable": false,
    "editable": false,
    "nbgrader": {
     "checksum": "0d033a68902e8b490647b915032925e5",
     "grade": true,
     "grade_id": "cell-cbff638ed2886e52",
     "locked": true,
     "points": 2,
     "schema_version": 1,
     "solution": false
    }
   },
   "outputs": [],
   "source": [
    "assert math.isclose(results.fittedvalues.sum(), 0.612070865961366, rel_tol=0.001)"
   ]
  },
  {
   "cell_type": "markdown",
   "metadata": {
    "deletable": false,
    "editable": false,
    "nbgrader": {
     "checksum": "3a5f05645d937c6bcdac1f234ddf84fa",
     "grade": false,
     "grade_id": "cell-e2baa97da4baf748",
     "locked": true,
     "schema_version": 1,
     "solution": false
    }
   },
   "source": [
    "### Q10: Get a plot with the original series and the one that is being given by the ARIMA you have built\n",
    "\n",
    "This really well behaved series are cool but we don't please our bosses with this. Let's get our original series and see how our ARIMA is behaving"
   ]
  },
  {
   "cell_type": "code",
   "execution_count": null,
   "metadata": {
    "deletable": false,
    "nbgrader": {
     "checksum": "ee769e915f571f9453036fb7f570898a",
     "grade": false,
     "grade_id": "cell-da752e940385af51",
     "locked": false,
     "schema_version": 1,
     "solution": true
    }
   },
   "outputs": [],
   "source": [
    "def get_original_series_back(model_results): \n",
    "    \n",
    "    # pred_arima = # get a series with the values the arima is giving\n",
    "    # pred_arima_cumsum = # get a cummulative sum of the differences\n",
    "\n",
    "    # pred_arma_log = # get a series with just the step 0 of the logs (the step before diff)\n",
    "    # pred_arma_log = # add to the logs the cum sum \n",
    "\n",
    "    # hello_old_friend = # just need to revert the log part\n",
    "    \n",
    "    # YOUR CODE HERE\n",
    "    raise NotImplementedError()\n",
    "    \n",
    "    return pred_arima, pred_arima_cumsum, pred_arma_log, hello_old_friend\n",
    "\n",
    "\n",
    "pred_arima, pred_arima_cumsum, pred_arma_log, hello_old_friend = get_original_series_back(results)\n",
    "\n",
    "# uncomment to see both series together\n",
    "\n",
    "# plt.plot(airlines.sort_index(), label='original')\n",
    "# plt.plot(hello_old_friend.sort_index(), label='arima')\n",
    "# plt.show();"
   ]
  },
  {
   "cell_type": "code",
   "execution_count": null,
   "metadata": {
    "deletable": false,
    "editable": false,
    "nbgrader": {
     "checksum": "264d5f88ab526c67e434670877786f49",
     "grade": true,
     "grade_id": "cell-2a396328cec2d03d",
     "locked": true,
     "points": 2,
     "schema_version": 1,
     "solution": false
    }
   },
   "outputs": [],
   "source": [
    "assert math.isclose(pred_arima.sum(), 0.612070865961366, rel_tol=0.01)\n",
    "assert math.isclose(pred_arima_cumsum.sum(), 11.730354194686626, rel_tol=0.01)\n",
    "assert math.isclose(pred_arma_log.sum(), 691.1941916611802, rel_tol=0.01)\n",
    "assert math.isclose(hello_old_friend.sum(), 17990.426122789817, rel_tol=0.01)"
   ]
  }
 ],
 "metadata": {
  "kernelspec": {
   "display_name": "Python 3",
   "language": "python",
   "name": "python3"
  },
  "language_info": {
   "codemirror_mode": {
    "name": "ipython",
    "version": 3
   },
   "file_extension": ".py",
   "mimetype": "text/x-python",
   "name": "python",
   "nbconvert_exporter": "python",
   "pygments_lexer": "ipython3",
   "version": "3.5.5"
  }
 },
 "nbformat": 4,
 "nbformat_minor": 2
}
